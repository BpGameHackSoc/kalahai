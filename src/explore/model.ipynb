{
 "cells": [
  {
   "cell_type": "code",
   "execution_count": 1,
   "metadata": {},
   "outputs": [],
   "source": [
    "import sys\n",
    "sys.path.append('../')\n",
    "import model                               # Game model\n",
    "from ai import Protocol as referee         # Comparison of engines\n",
    "import numpy as np\n",
    "\n",
    "from importlib import reload"
   ]
  },
  {
   "cell_type": "code",
   "execution_count": null,
   "metadata": {
    "scrolled": false
   },
   "outputs": [],
   "source": [
    "reload(referee)\n",
    "referee.run_competition(\"alpha_beta\", \"random\", depth1=10, no_of_games=10)"
   ]
  },
  {
   "cell_type": "code",
   "execution_count": null,
   "metadata": {
    "scrolled": false
   },
   "outputs": [],
   "source": [
    "reload(referee)\n",
    "referee.run_competition(\"AlphaBeta\", \"AlphaBetaOwnSeeds\", depth1=6, depth2=6, no_of_games=10)"
   ]
  },
  {
   "cell_type": "code",
   "execution_count": null,
   "metadata": {
    "scrolled": false
   },
   "outputs": [],
   "source": [
    "reload(referee)\n",
    "referee.run_competition(\"AlphaBetaOwnSeeds\", \"AlphaBeta\", depth1=4, depth2=4, no_of_games=10)"
   ]
  },
  {
   "cell_type": "code",
   "execution_count": null,
   "metadata": {},
   "outputs": [],
   "source": [
    "reload(referee)\n",
    "referee.run_competition(\"AlphaBetaOwnSeeds\", \"RandomAgent\", depth1=6, depth2=4, no_of_games=20)"
   ]
  },
  {
   "cell_type": "code",
   "execution_count": null,
   "metadata": {},
   "outputs": [],
   "source": [
    "reload(referee)\n",
    "referee.run_competition(\"AlphaBeta\", \"RandomAgent\", depth1=6, depth2=6, no_of_games=20)"
   ]
  },
  {
   "cell_type": "code",
   "execution_count": null,
   "metadata": {},
   "outputs": [],
   "source": [
    "def asd(a,b,c):\n",
    "    return a+b+c\n",
    "par = (1,2)\n",
    "asd(*par,4)dd\n",
    "    "
   ]
  }
 ],
 "metadata": {
  "kernelspec": {
   "display_name": "mankalah",
   "language": "python",
   "name": "mankalah"
  },
  "language_info": {
   "codemirror_mode": {
    "name": "ipython",
    "version": 3
   },
   "file_extension": ".py",
   "mimetype": "text/x-python",
   "name": "python",
   "nbconvert_exporter": "python",
   "pygments_lexer": "ipython3",
   "version": "3.5.4"
  }
 },
 "nbformat": 4,
 "nbformat_minor": 2
}
