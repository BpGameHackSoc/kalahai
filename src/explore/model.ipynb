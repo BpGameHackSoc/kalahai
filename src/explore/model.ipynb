{
 "cells": [
  {
   "cell_type": "code",
   "execution_count": 5,
   "metadata": {},
   "outputs": [],
   "source": [
    "import sys\n",
    "sys.path.append('../')\n",
    "import model                               # Game model\n",
    "from ai import Protocol as referee         # Comparison of engines\n",
    "import numpy as np\n",
    "\n",
    "from importlib import reload"
   ]
  },
  {
   "cell_type": "code",
   "execution_count": null,
   "metadata": {
    "scrolled": false
   },
   "outputs": [],
   "source": [
    "reload(referee)\n",
    "referee.run_competition(\"alpha_beta\", \"random\", depth1=10, no_of_games=10)"
   ]
  },
  {
   "cell_type": "code",
   "execution_count": 6,
   "metadata": {
    "scrolled": false
   },
   "outputs": [
    {
     "name": "stdout",
     "output_type": "stream",
     "text": [
      "1st agent was AlphaBeta and scored: 7.5 with 1035.7665534804753 number of average evaluations across games\n",
      "2st agent was AlphaBetaOwnSeeds and scored: 2.5 with 1377.9750000000001 number of average evaluations across games\n",
      "| 23 |  1 |  0 |  0 |  0 |  0 |  0 |    |\n",
      "|    |  0 |  0 |  0 |  0 |  0 |  1 | 23 |\n",
      "\n"
     ]
    }
   ],
   "source": [
    "reload(referee)\n",
    "referee.run_competition(\"AlphaBeta\", \"AlphaBetaOwnSeeds\", depth1=6, depth2=6, no_of_games=10)"
   ]
  },
  {
   "cell_type": "code",
   "execution_count": null,
   "metadata": {
    "scrolled": false
   },
   "outputs": [
    {
     "name": "stdout",
     "output_type": "stream",
     "text": [
      "1st agent was AlphaBetaOwnSeeds and scored: 1.5 with 923.3583333333333 number of average evaluations across games\n",
      "2st agent was AlphaBeta and scored: 0.5 with 1084.0875 number of average evaluations across games\n",
      "| 10 |  0 |  1 |  2 |  2 |  0 |    |\n",
      "|    |  0 |  0 |  0 |  0 |  1 | 14 |\n",
      "\n",
      "1st agent was AlphaBetaOwnSeeds and scored: 1.0 with 1745.8154761904761 number of average evaluations across games\n",
      "2st agent was AlphaBeta and scored: 1.0 with 2371.6051587301586 number of average evaluations across games\n",
      "|  9 |  0 |  0 |  2 |  0 |  1 |  0 |    |\n",
      "|    |  0 |  0 |  0 |  0 |  3 |  3 | 18 |\n",
      "\n"
     ]
    }
   ],
   "source": [
    "reload(referee)\n",
    "for i in range(3,8):\n",
    "    for j in range(5,8):\n",
    "        referee.run_competition(\"AlphaBetaOwnSeeds\", \"AlphaBeta\", seeds=i,buckets=j, depth1=7, depth2=7, no_of_games=2)"
   ]
  },
  {
   "cell_type": "code",
   "execution_count": 3,
   "metadata": {},
   "outputs": [
    {
     "name": "stdout",
     "output_type": "stream",
     "text": [
      "1st agent was AlphaBetaOwnSeeds and scored: 10.0 with 1223.4550846923999 number of average evaluations across games\n",
      "2st agent was RandomAgent and scored: 10.0 with 1.0 number of average evaluations across games\n",
      "| 24 |  2 |  2 |  2 |  0 |  4 |  0 |    |\n",
      "|    |  0 |  0 |  0 |  6 |  0 |  0 |  8 |\n",
      "\n"
     ]
    }
   ],
   "source": [
    "reload(referee)\n",
    "referee.run_competition(\"AlphaBetaOwnSeeds\", \"RandomAgent\", depth1=6, depth2=4, no_of_games=20)"
   ]
  },
  {
   "cell_type": "code",
   "execution_count": 4,
   "metadata": {},
   "outputs": [
    {
     "name": "stdout",
     "output_type": "stream",
     "text": [
      "1st agent was AlphaBeta and scored: 10.0 with 1193.6394990586964 number of average evaluations across games\n",
      "2st agent was RandomAgent and scored: 10.0 with 1.0 number of average evaluations across games\n",
      "| 24 |  0 |  0 | 11 |  0 |  1 |  0 |    |\n",
      "|    |  0 |  0 |  0 |  0 |  0 |  1 | 11 |\n",
      "\n"
     ]
    }
   ],
   "source": [
    "reload(referee)\n",
    "referee.run_competition(\"AlphaBeta\", \"RandomAgent\", depth1=6, depth2=6, no_of_games=20)"
   ]
  },
  {
   "cell_type": "code",
   "execution_count": null,
   "metadata": {},
   "outputs": [],
   "source": []
  }
 ],
 "metadata": {
  "kernelspec": {
   "display_name": "mankalah",
   "language": "python",
   "name": "mankalah"
  },
  "language_info": {
   "codemirror_mode": {
    "name": "ipython",
    "version": 3
   },
   "file_extension": ".py",
   "mimetype": "text/x-python",
   "name": "python",
   "nbconvert_exporter": "python",
   "pygments_lexer": "ipython3",
   "version": "3.5.4"
  }
 },
 "nbformat": 4,
 "nbformat_minor": 2
}
