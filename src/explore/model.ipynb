{
 "cells": [
  {
   "cell_type": "code",
   "execution_count": null,
   "metadata": {
    "collapsed": true
   },
   "outputs": [],
   "source": [
    "import numpy as np\n",
    "from enum import Enum"
   ]
  },
  {
   "cell_type": "markdown",
   "metadata": {},
   "source": [
    "# Game objects"
   ]
  },
  {
   "cell_type": "code",
   "execution_count": null,
   "metadata": {
    "collapsed": false
   },
   "outputs": [],
   "source": [
    "class Side(Enum):\n",
    "    NORTH = 0\n",
    "    SOUTH = 1\n",
    "    def opposite(self):\n",
    "        return self.NORTH if self == self.SOUTH else self.SOUTH\n",
    "    \n",
    "class Board(object):\n",
    "    \n",
    "    def __init__(self, no_of_holes, no_of_seeds):\n",
    "        self.no_of_holes = no_of_holes\n",
    "        self.no_of_initial_seeds = no_of_seeds\n",
    "        self.buckets = np.array(([no_of_seeds] * no_of_holes + [0]) * 2)\n",
    "        \n",
    "    def move(self, index, side):\n",
    "        \n",
    "        # Normal move\n",
    "        self.__validate_index(index)\n",
    "        no_of_seeds = self.buckets[index]\n",
    "        self.buckets[index] = 0\n",
    "        n = self.buckets.size\n",
    "        hanging_seeds = np.concatenate((\n",
    "            np.zeros(index + 1),\n",
    "            np.ones(no_of_seeds),\n",
    "            np.zeros((n - index - no_of_seeds - 1) % n)))\n",
    "        hanging_seeds = np.sum(hanging_seeds.reshape(hanging_seeds.size // n, n), axis=0)\n",
    "        self.buckets = (self.buckets + hanging_seeds).astype(int)\n",
    "        \n",
    "        # Grant another move if finished in store\n",
    "        relative_finish_index = (index % int(n // 2) + no_of_seeds) % n\n",
    "        finished_in_store = relative_finish_index == n // 2 - 1\n",
    "        if finished_in_store:\n",
    "            return side\n",
    "        \n",
    "        # Check if opposite side is zero\n",
    "        finish_index = (index + no_of_seeds) % n\n",
    "        opposite_index = n-finish_index-2\n",
    "        finished_on_own_side =  finish_index < n // 2 if side == Side.SOUTH else finish_index > n //2\n",
    "        finished_on_zero = self.buckets[finish_index] == 1\n",
    "        opposite_side_has_seeds = self.buckets[opposite_index] != 0\n",
    "        if finished_on_own_side and finished_on_zero and opposite_side_has_seeds:\n",
    "            store_index = int(n//2)-1 if side == Side.SOUTH else n-1\n",
    "            seeds_won = self.buckets[opposite_index] + 1\n",
    "            self.buckets[opposite_index] = 0\n",
    "            self.buckets[finish_index] = 0\n",
    "            self.buckets[store_index] = self.buckets[store_index] + seeds_won   \n",
    "        \n",
    "        return side.opposite()\n",
    "            \n",
    "    def get_holes(self, side):\n",
    "        start = 0 if side == Side.SOUTH else self.no_of_holes + 1\n",
    "        return self.buckets[start:start+self.no_of_holes]\n",
    "    \n",
    "    def to_str(self):\n",
    "        n = self.buckets.size\n",
    "        half = int(n // 2)\n",
    "        south = self.buckets[:half].reshape(1, half)\n",
    "        north = np.flip(self.buckets[half:], axis=0).reshape(1, half)\n",
    "        return np.concatenate((north, south), axis=0)\n",
    "    \n",
    "    def __validate_index(self, index):\n",
    "        n = self.buckets.size\n",
    "        is_store = index == int(n // 2) - 1 or index == n - 1\n",
    "        if is_store:\n",
    "            raise ValueError('The following index is a store: ' + str(index))  \n",
    "        if self.buckets[index] == 0:\n",
    "            raise ValueError('The indexed bucket is empty: ' + str(index))        \n",
    "\n",
    "            \n",
    "\n",
    "class State(object):\n",
    "    \n",
    "    def __init__(self, no_of_holes=6, no_of_seeds=4):       \n",
    "        self.players = [Side.SOUTH, Side.NORTH]\n",
    "        self.current_player = Side.SOUTH\n",
    "        self.board = Board(no_of_holes, no_of_seeds)\n",
    "        \n",
    "    def is_game_over(self):\n",
    "        board_size = int(self.board.buckets.size // 2)\n",
    "        south_validation = np.all(self.board.get_holes(Side.SOUTH) == 0)\n",
    "        north_validation = np.all(self.board.get_holes(Side.NORTH) == 0)\n",
    "        return south_validation or north_validation\n",
    "    \n",
    "    def move(self, index):\n",
    "        index = self.__validate_index(index, self.current_player)\n",
    "        self.current_player = self.board.move(index, self.current_player)     \n",
    "        \n",
    "    def show(self):\n",
    "        print(self.board.to_str())\n",
    "        \n",
    "    def __validate_index(self, index, side):\n",
    "        n = self.board.buckets.size\n",
    "        half = int(n // 2)\n",
    "        out_of_bounds = index < 0 or index >= half\n",
    "        if out_of_bounds:\n",
    "            raise ValueError('The following index is out of bounds: ' + str(index))\n",
    "        return index if side == Side.SOUTH else index + half\n",
    "        \n",
    "        \n",
    "        "
   ]
  },
  {
   "cell_type": "markdown",
   "metadata": {},
   "source": [
    "# Example game"
   ]
  },
  {
   "cell_type": "code",
   "execution_count": null,
   "metadata": {
    "collapsed": false
   },
   "outputs": [],
   "source": [
    "S = State(6,4)\n",
    "\n",
    "moves = [2, 1, 0, 2, 5, 5, 1, 1, 0]\n",
    "for move in moves:\n",
    "    S.move(move)\n",
    "    S.show()\n",
    "    print()"
   ]
  },
  {
   "cell_type": "code",
   "execution_count": null,
   "metadata": {
    "collapsed": true
   },
   "outputs": [],
   "source": []
  }
 ],
 "metadata": {
  "kernelspec": {
   "display_name": "Python 3",
   "language": "python",
   "name": "python3"
  },
  "language_info": {
   "codemirror_mode": {
    "name": "ipython",
    "version": 3
   },
   "file_extension": ".py",
   "mimetype": "text/x-python",
   "name": "python",
   "nbconvert_exporter": "python",
   "pygments_lexer": "ipython3",
   "version": "3.6.0"
  }
 },
 "nbformat": 4,
 "nbformat_minor": 2
}
