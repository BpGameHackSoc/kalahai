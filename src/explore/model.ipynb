{
 "cells": [
  {
   "cell_type": "code",
   "execution_count": 1,
   "metadata": {},
   "outputs": [],
   "source": [
    "import sys\n",
    "sys.path.append('../')\n",
    "import model                               # Game model\n",
    "from ai import Protocol as referee         # Comparison of engines\n",
    "\n",
    "from importlib import reload"
   ]
  },
  {
   "cell_type": "code",
   "execution_count": 21,
   "metadata": {
    "scrolled": false
   },
   "outputs": [
    {
     "ename": "ImportError",
     "evalue": "No module named 'ai.alpha_beta'",
     "output_type": "error",
     "traceback": [
      "\u001b[0;31m---------------------------------------------------------------------------\u001b[0m",
      "\u001b[0;31mImportError\u001b[0m                               Traceback (most recent call last)",
      "\u001b[0;32m<ipython-input-21-019269f39c83>\u001b[0m in \u001b[0;36m<module>\u001b[0;34m()\u001b[0m\n\u001b[1;32m      1\u001b[0m \u001b[0mreload\u001b[0m\u001b[0;34m(\u001b[0m\u001b[0mreferee\u001b[0m\u001b[0;34m)\u001b[0m\u001b[0;34m\u001b[0m\u001b[0m\n\u001b[0;32m----> 2\u001b[0;31m \u001b[0mreferee\u001b[0m\u001b[0;34m.\u001b[0m\u001b[0mrun_competition\u001b[0m\u001b[0;34m(\u001b[0m\u001b[0;34m\"alpha_beta\"\u001b[0m\u001b[0;34m,\u001b[0m \u001b[0;34m\"random\"\u001b[0m\u001b[0;34m,\u001b[0m \u001b[0mdepth1\u001b[0m\u001b[0;34m=\u001b[0m\u001b[0;36m10\u001b[0m\u001b[0;34m,\u001b[0m \u001b[0mno_of_games\u001b[0m\u001b[0;34m=\u001b[0m\u001b[0;36m10\u001b[0m\u001b[0;34m)\u001b[0m\u001b[0;34m\u001b[0m\u001b[0m\n\u001b[0m",
      "\u001b[0;32m~/Workspace/kalahai/src/ai/Protocol.py\u001b[0m in \u001b[0;36mrun_competition\u001b[0;34m(str_bot1, str_bot2, react_time, buckets, seeds, pie_rule, print_states, print_games, no_of_games, depth1, depth2)\u001b[0m\n\u001b[1;32m     16\u001b[0m                     depth1=None, depth2=None,):\n\u001b[1;32m     17\u001b[0m     \u001b[0;32mglobal\u001b[0m \u001b[0mbot1\u001b[0m\u001b[0;34m,\u001b[0m\u001b[0mbot2\u001b[0m\u001b[0;34m\u001b[0m\u001b[0m\n\u001b[0;32m---> 18\u001b[0;31m     \u001b[0mbot1\u001b[0m \u001b[0;34m=\u001b[0m \u001b[0mget_agent\u001b[0m\u001b[0;34m(\u001b[0m\u001b[0mstr_bot1\u001b[0m\u001b[0;34m,\u001b[0m \u001b[0mdepth1\u001b[0m\u001b[0;34m,\u001b[0m\u001b[0mreact_time\u001b[0m\u001b[0;34m=\u001b[0m\u001b[0;32mNone\u001b[0m\u001b[0;34m)\u001b[0m\u001b[0;34m\u001b[0m\u001b[0m\n\u001b[0m\u001b[1;32m     19\u001b[0m     \u001b[0mbot2\u001b[0m \u001b[0;34m=\u001b[0m \u001b[0mget_agent\u001b[0m\u001b[0;34m(\u001b[0m\u001b[0mstr_bot2\u001b[0m\u001b[0;34m,\u001b[0m \u001b[0mdepth2\u001b[0m\u001b[0;34m,\u001b[0m\u001b[0mreact_time\u001b[0m\u001b[0;34m=\u001b[0m\u001b[0;32mNone\u001b[0m\u001b[0;34m)\u001b[0m\u001b[0;34m\u001b[0m\u001b[0m\n\u001b[1;32m     20\u001b[0m     \u001b[0mwins\u001b[0m \u001b[0;34m=\u001b[0m \u001b[0mnp\u001b[0m\u001b[0;34m.\u001b[0m\u001b[0mzeros\u001b[0m\u001b[0;34m(\u001b[0m\u001b[0;36m2\u001b[0m\u001b[0;34m)\u001b[0m\u001b[0;34m\u001b[0m\u001b[0m\n",
      "\u001b[0;32m~/Workspace/kalahai/src/ai/Protocol.py\u001b[0m in \u001b[0;36mget_agent\u001b[0;34m(str_bot, depth, react_time)\u001b[0m\n\u001b[1;32m     61\u001b[0m     \u001b[0;34m\"\"\"Load strbot.strbot class as we expect all agent to be included this way\"\"\"\u001b[0m\u001b[0;34m\u001b[0m\u001b[0m\n\u001b[1;32m     62\u001b[0m     \u001b[0mtop_dir\u001b[0m \u001b[0;34m=\u001b[0m \u001b[0mos\u001b[0m\u001b[0;34m.\u001b[0m\u001b[0mpath\u001b[0m\u001b[0;34m.\u001b[0m\u001b[0mbasename\u001b[0m\u001b[0;34m(\u001b[0m\u001b[0mos\u001b[0m\u001b[0;34m.\u001b[0m\u001b[0mpath\u001b[0m\u001b[0;34m.\u001b[0m\u001b[0mdirname\u001b[0m\u001b[0;34m(\u001b[0m\u001b[0mos\u001b[0m\u001b[0;34m.\u001b[0m\u001b[0mpath\u001b[0m\u001b[0;34m.\u001b[0m\u001b[0mabspath\u001b[0m\u001b[0;34m(\u001b[0m\u001b[0m__file__\u001b[0m\u001b[0;34m)\u001b[0m\u001b[0;34m)\u001b[0m\u001b[0;34m)\u001b[0m\u001b[0;34m\u001b[0m\u001b[0m\n\u001b[0;32m---> 63\u001b[0;31m     \u001b[0mmodule\u001b[0m\u001b[0;34m=\u001b[0m  \u001b[0mimportlib\u001b[0m\u001b[0;34m.\u001b[0m\u001b[0mimport_module\u001b[0m\u001b[0;34m(\u001b[0m\u001b[0;34m\".\"\u001b[0m\u001b[0;34m+\u001b[0m\u001b[0mstr_bot\u001b[0m\u001b[0;34m,\u001b[0m\u001b[0mtop_dir\u001b[0m\u001b[0;34m)\u001b[0m\u001b[0;34m\u001b[0m\u001b[0m\n\u001b[0m\u001b[1;32m     64\u001b[0m     \u001b[0;31m#module = getattr(sys.modules[__name__], str_bot)\u001b[0m\u001b[0;34m\u001b[0m\u001b[0;34m\u001b[0m\u001b[0m\n\u001b[1;32m     65\u001b[0m     \u001b[0;31m#reload(module)\u001b[0m\u001b[0;34m\u001b[0m\u001b[0;34m\u001b[0m\u001b[0m\n",
      "\u001b[0;32m/usr/lib/python3.5/importlib/__init__.py\u001b[0m in \u001b[0;36mimport_module\u001b[0;34m(name, package)\u001b[0m\n\u001b[1;32m    124\u001b[0m                 \u001b[0;32mbreak\u001b[0m\u001b[0;34m\u001b[0m\u001b[0m\n\u001b[1;32m    125\u001b[0m             \u001b[0mlevel\u001b[0m \u001b[0;34m+=\u001b[0m \u001b[0;36m1\u001b[0m\u001b[0;34m\u001b[0m\u001b[0m\n\u001b[0;32m--> 126\u001b[0;31m     \u001b[0;32mreturn\u001b[0m \u001b[0m_bootstrap\u001b[0m\u001b[0;34m.\u001b[0m\u001b[0m_gcd_import\u001b[0m\u001b[0;34m(\u001b[0m\u001b[0mname\u001b[0m\u001b[0;34m[\u001b[0m\u001b[0mlevel\u001b[0m\u001b[0;34m:\u001b[0m\u001b[0;34m]\u001b[0m\u001b[0;34m,\u001b[0m \u001b[0mpackage\u001b[0m\u001b[0;34m,\u001b[0m \u001b[0mlevel\u001b[0m\u001b[0;34m)\u001b[0m\u001b[0;34m\u001b[0m\u001b[0m\n\u001b[0m\u001b[1;32m    127\u001b[0m \u001b[0;34m\u001b[0m\u001b[0m\n\u001b[1;32m    128\u001b[0m \u001b[0;34m\u001b[0m\u001b[0m\n",
      "\u001b[0;32m/usr/lib/python3.5/importlib/_bootstrap.py\u001b[0m in \u001b[0;36m_gcd_import\u001b[0;34m(name, package, level)\u001b[0m\n",
      "\u001b[0;32m/usr/lib/python3.5/importlib/_bootstrap.py\u001b[0m in \u001b[0;36m_find_and_load\u001b[0;34m(name, import_)\u001b[0m\n",
      "\u001b[0;32m/usr/lib/python3.5/importlib/_bootstrap.py\u001b[0m in \u001b[0;36m_find_and_load_unlocked\u001b[0;34m(name, import_)\u001b[0m\n",
      "\u001b[0;31mImportError\u001b[0m: No module named 'ai.alpha_beta'"
     ]
    }
   ],
   "source": [
    "reload(referee)\n",
    "referee.run_competition(\"alpha_beta\", \"random\", depth1=10, no_of_games=10)"
   ]
  },
  {
   "cell_type": "code",
   "execution_count": 7,
   "metadata": {
    "scrolled": false
   },
   "outputs": [
    {
     "name": "stdout",
     "output_type": "stream",
     "text": [
      "1st agent was AlphaBeta and scored: 0.0 with 63.357142857142854 number of average evaluations across games\n",
      "2st agent was <bound method AlphaBeta.get_name of <ai.AlphaBetaOwnSeeds.AlphaBetaOwnSeeds object at 0x7f51d536add8>> and scored: 5.0 with 81.125 number of average evaluations across games\n",
      "| 20 |  0 |  0 |  2 |  0 |  2 |  0 |    |\n",
      "|    |  0 |  0 |  0 |  0 |  0 |  3 | 21 |\n",
      "\n"
     ]
    }
   ],
   "source": [
    "reload(referee)\n",
    "referee.run_competition(\"AlphaBeta\", \"AlphaBetaOwnSeeds\", depth1=4, depth2=4, no_of_games=5)"
   ]
  },
  {
   "cell_type": "code",
   "execution_count": 19,
   "metadata": {},
   "outputs": [
    {
     "name": "stdout",
     "output_type": "stream",
     "text": [
      "1st agent was AlphaBeta and scored: 76.5 with 307.4250770820026 number of average evaluations across games\n",
      "2st agent was RandomAgent and scored: 23.5 with 1.0 number of average evaluations across games\n",
      "| 20 |  2 |  1 |  0 |  1 |  0 |  0 |    |\n",
      "|    |  0 |  0 |  0 |  0 |  0 |  1 | 23 |\n",
      "\n"
     ]
    }
   ],
   "source": [
    "reload(referee)\n",
    "referee.run_competition(\"AlphaBetaOwnSeeds\", \"RandomAgent\", depth1=5, depth2=5, no_of_games=100)"
   ]
  },
  {
   "cell_type": "code",
   "execution_count": 12,
   "metadata": {
    "collapsed": true
   },
   "outputs": [
    {
     "data": {
      "text/plain": [
       "[('AlphaBeta', <module 'ai.AlphaBeta' from '../ai/AlphaBeta.py'>),\n",
       " ('Protocol', <module 'ai.Protocol' from '../ai/Protocol.py'>),\n",
       " ('RandomAgent', <module 'ai.RandomAgent' from '../ai/RandomAgent.py'>),\n",
       " ('__builtins__',\n",
       "  {'ArithmeticError': ArithmeticError,\n",
       "   'AssertionError': AssertionError,\n",
       "   'AttributeError': AttributeError,\n",
       "   'BaseException': BaseException,\n",
       "   'BlockingIOError': BlockingIOError,\n",
       "   'BrokenPipeError': BrokenPipeError,\n",
       "   'BufferError': BufferError,\n",
       "   'BytesWarning': BytesWarning,\n",
       "   'ChildProcessError': ChildProcessError,\n",
       "   'ConnectionAbortedError': ConnectionAbortedError,\n",
       "   'ConnectionError': ConnectionError,\n",
       "   'ConnectionRefusedError': ConnectionRefusedError,\n",
       "   'ConnectionResetError': ConnectionResetError,\n",
       "   'DeprecationWarning': DeprecationWarning,\n",
       "   'EOFError': EOFError,\n",
       "   'Ellipsis': Ellipsis,\n",
       "   'EnvironmentError': OSError,\n",
       "   'Exception': Exception,\n",
       "   'False': False,\n",
       "   'FileExistsError': FileExistsError,\n",
       "   'FileNotFoundError': FileNotFoundError,\n",
       "   'FloatingPointError': FloatingPointError,\n",
       "   'FutureWarning': FutureWarning,\n",
       "   'GeneratorExit': GeneratorExit,\n",
       "   'IOError': OSError,\n",
       "   'ImportError': ImportError,\n",
       "   'ImportWarning': ImportWarning,\n",
       "   'IndentationError': IndentationError,\n",
       "   'IndexError': IndexError,\n",
       "   'InterruptedError': InterruptedError,\n",
       "   'IsADirectoryError': IsADirectoryError,\n",
       "   'KeyError': KeyError,\n",
       "   'KeyboardInterrupt': KeyboardInterrupt,\n",
       "   'LookupError': LookupError,\n",
       "   'MemoryError': MemoryError,\n",
       "   'NameError': NameError,\n",
       "   'None': None,\n",
       "   'NotADirectoryError': NotADirectoryError,\n",
       "   'NotImplemented': NotImplemented,\n",
       "   'NotImplementedError': NotImplementedError,\n",
       "   'OSError': OSError,\n",
       "   'OverflowError': OverflowError,\n",
       "   'PendingDeprecationWarning': PendingDeprecationWarning,\n",
       "   'PermissionError': PermissionError,\n",
       "   'ProcessLookupError': ProcessLookupError,\n",
       "   'RecursionError': RecursionError,\n",
       "   'ReferenceError': ReferenceError,\n",
       "   'ResourceWarning': ResourceWarning,\n",
       "   'RuntimeError': RuntimeError,\n",
       "   'RuntimeWarning': RuntimeWarning,\n",
       "   'StopAsyncIteration': StopAsyncIteration,\n",
       "   'StopIteration': StopIteration,\n",
       "   'SyntaxError': SyntaxError,\n",
       "   'SyntaxWarning': SyntaxWarning,\n",
       "   'SystemError': SystemError,\n",
       "   'SystemExit': SystemExit,\n",
       "   'TabError': TabError,\n",
       "   'TimeoutError': TimeoutError,\n",
       "   'True': True,\n",
       "   'TypeError': TypeError,\n",
       "   'UnboundLocalError': UnboundLocalError,\n",
       "   'UnicodeDecodeError': UnicodeDecodeError,\n",
       "   'UnicodeEncodeError': UnicodeEncodeError,\n",
       "   'UnicodeError': UnicodeError,\n",
       "   'UnicodeTranslateError': UnicodeTranslateError,\n",
       "   'UnicodeWarning': UnicodeWarning,\n",
       "   'UserWarning': UserWarning,\n",
       "   'ValueError': ValueError,\n",
       "   'Warning': Warning,\n",
       "   'ZeroDivisionError': ZeroDivisionError,\n",
       "   '__IPYTHON__': True,\n",
       "   '__build_class__': <function __build_class__>,\n",
       "   '__debug__': True,\n",
       "   '__doc__': \"Built-in functions, exceptions, and other objects.\\n\\nNoteworthy: None is the `nil' object; Ellipsis represents `...' in slices.\",\n",
       "   '__import__': <function __import__>,\n",
       "   '__loader__': _frozen_importlib.BuiltinImporter,\n",
       "   '__name__': 'builtins',\n",
       "   '__package__': '',\n",
       "   '__spec__': ModuleSpec(name='builtins', loader=<class '_frozen_importlib.BuiltinImporter'>),\n",
       "   'abs': <function abs>,\n",
       "   'all': <function all>,\n",
       "   'any': <function any>,\n",
       "   'ascii': <function ascii>,\n",
       "   'bin': <function bin>,\n",
       "   'bool': bool,\n",
       "   'bytearray': bytearray,\n",
       "   'bytes': bytes,\n",
       "   'callable': <function callable>,\n",
       "   'chr': <function chr>,\n",
       "   'classmethod': classmethod,\n",
       "   'compile': <function compile>,\n",
       "   'complex': complex,\n",
       "   'copyright': Copyright (c) 2001-2016 Python Software Foundation.\n",
       "   All Rights Reserved.\n",
       "   \n",
       "   Copyright (c) 2000 BeOpen.com.\n",
       "   All Rights Reserved.\n",
       "   \n",
       "   Copyright (c) 1995-2001 Corporation for National Research Initiatives.\n",
       "   All Rights Reserved.\n",
       "   \n",
       "   Copyright (c) 1991-1995 Stichting Mathematisch Centrum, Amsterdam.\n",
       "   All Rights Reserved.,\n",
       "   'credits':     Thanks to CWI, CNRI, BeOpen.com, Zope Corporation and a cast of thousands\n",
       "       for supporting Python development.  See www.python.org for more information.,\n",
       "   'delattr': <function delattr>,\n",
       "   'dict': dict,\n",
       "   'dir': <function dir>,\n",
       "   'display': <function IPython.core.display.display>,\n",
       "   'divmod': <function divmod>,\n",
       "   'enumerate': enumerate,\n",
       "   'eval': <function eval>,\n",
       "   'exec': <function exec>,\n",
       "   'filter': filter,\n",
       "   'float': float,\n",
       "   'format': <function format>,\n",
       "   'frozenset': frozenset,\n",
       "   'get_ipython': <bound method InteractiveShell.get_ipython of <ipykernel.zmqshell.ZMQInteractiveShell object at 0x7f94451fa898>>,\n",
       "   'getattr': <function getattr>,\n",
       "   'globals': <function globals>,\n",
       "   'hasattr': <function hasattr>,\n",
       "   'hash': <function hash>,\n",
       "   'help': Type help() for interactive help, or help(object) for help about object.,\n",
       "   'hex': <function hex>,\n",
       "   'id': <function id>,\n",
       "   'input': <bound method Kernel.raw_input of <ipykernel.ipkernel.IPythonKernel object at 0x7f94451fa978>>,\n",
       "   'int': int,\n",
       "   'isinstance': <function isinstance>,\n",
       "   'issubclass': <function issubclass>,\n",
       "   'iter': <function iter>,\n",
       "   'len': <function len>,\n",
       "   'license': Type license() to see the full license text,\n",
       "   'list': list,\n",
       "   'locals': <function locals>,\n",
       "   'map': map,\n",
       "   'max': <function max>,\n",
       "   'memoryview': memoryview,\n",
       "   'min': <function min>,\n",
       "   'next': <function next>,\n",
       "   'object': object,\n",
       "   'oct': <function oct>,\n",
       "   'open': <function io.open>,\n",
       "   'ord': <function ord>,\n",
       "   'pow': <function pow>,\n",
       "   'print': <function print>,\n",
       "   'property': property,\n",
       "   'range': range,\n",
       "   'repr': <function repr>,\n",
       "   'reversed': reversed,\n",
       "   'round': <function round>,\n",
       "   'set': set,\n",
       "   'setattr': <function setattr>,\n",
       "   'slice': slice,\n",
       "   'sorted': <function sorted>,\n",
       "   'staticmethod': staticmethod,\n",
       "   'str': str,\n",
       "   'sum': <function sum>,\n",
       "   'super': super,\n",
       "   'tuple': tuple,\n",
       "   'type': type,\n",
       "   'vars': <function vars>,\n",
       "   'zip': zip}),\n",
       " ('__cached__', '../ai/__pycache__/Protocol.cpython-35.pyc'),\n",
       " ('__doc__', None),\n",
       " ('__file__', '../ai/Protocol.py'),\n",
       " ('__loader__',\n",
       "  <_frozen_importlib_external.SourceFileLoader at 0x7f9413b82710>),\n",
       " ('__name__', 'ai.Protocol'),\n",
       " ('__package__', 'ai'),\n",
       " ('__spec__',\n",
       "  ModuleSpec(name='ai.Protocol', loader=<_frozen_importlib_external.SourceFileLoader object at 0x7f9413b82710>, origin='../ai/Protocol.py')),\n",
       " ('bot1', <ai.AlphaBeta.AlphaBeta at 0x7f9413b825f8>),\n",
       " ('bot2', None),\n",
       " ('get_agent', <function ai.Protocol.get_agent>),\n",
       " ('model', <module 'model' from '../model.py'>),\n",
       " ('np',\n",
       "  <module 'numpy' from '/home/gergely/.local/lib/python3.5/site-packages/numpy/__init__.py'>),\n",
       " ('reload', <function importlib.reload>),\n",
       " ('run_competition', <function ai.Protocol.run_competition>),\n",
       " ('sys', <module 'sys' (built-in)>)]"
      ]
     },
     "execution_count": 12,
     "metadata": {},
     "output_type": "execute_result"
    }
   ],
   "source": [
    "import inspect\n",
    "inspect.getmembers(referee)"
   ]
  },
  {
   "cell_type": "code",
   "execution_count": 25,
   "metadata": {},
   "outputs": [
    {
     "data": {
      "text/plain": [
       "<module 'ai.Protocol' from '../ai/Protocol.py'>"
      ]
     },
     "execution_count": 25,
     "metadata": {},
     "output_type": "execute_result"
    }
   ],
   "source": [
    "globals()[\"referee\"]"
   ]
  },
  {
   "cell_type": "code",
   "execution_count": 29,
   "metadata": {},
   "outputs": [
    {
     "data": {
      "text/plain": [
       "ai.AlphaBeta.AlphaBeta"
      ]
     },
     "execution_count": 29,
     "metadata": {},
     "output_type": "execute_result"
    }
   ],
   "source": [
    "getattr(referee.AlphaBeta, \"AlphaBeta\")"
   ]
  },
  {
   "cell_type": "code",
   "execution_count": 6,
   "metadata": {},
   "outputs": [
    {
     "data": {
      "text/plain": [
       "-1"
      ]
     },
     "execution_count": 6,
     "metadata": {},
     "output_type": "execute_result"
    }
   ],
   "source": []
  }
 ],
 "metadata": {
  "kernelspec": {
   "display_name": "Python 3",
   "language": "python",
   "name": "python3"
  },
  "language_info": {
   "codemirror_mode": {
    "name": "ipython",
    "version": 3
   },
   "file_extension": ".py",
   "mimetype": "text/x-python",
   "name": "python",
   "nbconvert_exporter": "python",
   "pygments_lexer": "ipython3",
   "version": "3.5.2"
  }
 },
 "nbformat": 4,
 "nbformat_minor": 2
}
