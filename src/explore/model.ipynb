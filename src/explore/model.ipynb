{
 "cells": [
  {
   "cell_type": "code",
   "execution_count": null,
   "metadata": {},
   "outputs": [],
   "source": [
    "import sys\n",
    "sys.path.append('../')\n",
    "import model                               # Game model\n",
    "from ai import Protocol as referee         # Comparison of engines\n",
    "import numpy as np\n",
    "\n",
    "from importlib import reload"
   ]
  },
  {
   "cell_type": "code",
   "execution_count": null,
   "metadata": {
    "scrolled": false
   },
   "outputs": [],
   "source": [
    "reload(referee)\n",
    "referee.run_competition(\"alpha_beta\", \"random\", depth1=10, no_of_games=10)"
   ]
  },
  {
   "cell_type": "code",
   "execution_count": 23,
   "metadata": {
    "scrolled": false
   },
   "outputs": [
    {
     "name": "stdout",
     "output_type": "stream",
     "text": [
      "1st agent was AlphaBeta and scored: 4.5 with 232986.8225841687 number of average evaluations across games\n",
      "2st agent was AlphaBetaOwnSeeds and scored: 9.5 with 128458.49089757248 number of average evaluations across games\n"
     ]
    }
   ],
   "source": [
    "reload(referee)\n",
    "referee.run_competition(\"AlphaBeta\", \"AlphaBetaOwnSeeds\", depth1=11, depth2=11, no_of_games=2,test_openings=True,change_sides=True)"
   ]
  },
  {
   "cell_type": "code",
   "execution_count": null,
   "metadata": {
    "scrolled": false
   },
   "outputs": [],
   "source": [
    "reload(referee)\n",
    "for i in range(3,8):\n",
    "    for j in range(5,8):\n",
    "        referee.run_competition(\"AlphaBetaOwnSeeds\", \"AlphaBeta\", seeds=i,buckets=j, depth1=7, depth2=7, no_of_games=2)"
   ]
  },
  {
   "cell_type": "code",
   "execution_count": null,
   "metadata": {},
   "outputs": [],
   "source": [
    "reload(referee)\n",
    "referee.run_competition(\"AlphaBetaOwnSeeds\", \"RandomAgent\", depth1=6, depth2=4, no_of_games=20)"
   ]
  },
  {
   "cell_type": "code",
   "execution_count": null,
   "metadata": {},
   "outputs": [],
   "source": [
    "reload(referee)\n",
    "referee.run_competition(\"AlphaBeta\", \"RandomAgent\", depth1=6, depth2=6, no_of_games=20)"
   ]
  }
 ],
 "metadata": {
  "kernelspec": {
   "display_name": "mankalah",
   "language": "python",
   "name": "mankalah"
  },
  "language_info": {
   "codemirror_mode": {
    "name": "ipython",
    "version": 3
   },
   "file_extension": ".py",
   "mimetype": "text/x-python",
   "name": "python",
   "nbconvert_exporter": "python",
   "pygments_lexer": "ipython3",
   "version": "3.5.4"
  }
 },
 "nbformat": 4,
 "nbformat_minor": 2
}
